{
 "cells": [
  {
   "cell_type": "code",
   "execution_count": 1,
   "id": "04360166",
   "metadata": {},
   "outputs": [],
   "source": [
    "import pandas as pd\n",
    "import numpy as np\n",
    "from scipy import stats\n",
    "from scipy.stats import f_oneway"
   ]
  },
  {
   "cell_type": "code",
   "execution_count": 2,
   "id": "73eca1ec",
   "metadata": {},
   "outputs": [],
   "source": [
    "df = pd.read_csv('diamonds.csv')"
   ]
  },
  {
   "cell_type": "code",
   "execution_count": 3,
   "id": "61d221bb",
   "metadata": {},
   "outputs": [],
   "source": [
    "# linear regression where price is the dependent variable"
   ]
  },
  {
   "cell_type": "code",
   "execution_count": 4,
   "id": "5c471e82",
   "metadata": {},
   "outputs": [
    {
     "data": {
      "text/html": [
       "<div>\n",
       "<style scoped>\n",
       "    .dataframe tbody tr th:only-of-type {\n",
       "        vertical-align: middle;\n",
       "    }\n",
       "\n",
       "    .dataframe tbody tr th {\n",
       "        vertical-align: top;\n",
       "    }\n",
       "\n",
       "    .dataframe thead th {\n",
       "        text-align: right;\n",
       "    }\n",
       "</style>\n",
       "<table border=\"1\" class=\"dataframe\">\n",
       "  <thead>\n",
       "    <tr style=\"text-align: right;\">\n",
       "      <th></th>\n",
       "      <th>Unnamed: 0</th>\n",
       "      <th>carat</th>\n",
       "      <th>cut</th>\n",
       "      <th>color</th>\n",
       "      <th>clarity</th>\n",
       "      <th>depth</th>\n",
       "      <th>table</th>\n",
       "      <th>price</th>\n",
       "      <th>x</th>\n",
       "      <th>y</th>\n",
       "      <th>z</th>\n",
       "    </tr>\n",
       "  </thead>\n",
       "  <tbody>\n",
       "    <tr>\n",
       "      <th>0</th>\n",
       "      <td>1</td>\n",
       "      <td>0.23</td>\n",
       "      <td>Ideal</td>\n",
       "      <td>E</td>\n",
       "      <td>SI2</td>\n",
       "      <td>61.5</td>\n",
       "      <td>55.0</td>\n",
       "      <td>326</td>\n",
       "      <td>3.95</td>\n",
       "      <td>3.98</td>\n",
       "      <td>2.43</td>\n",
       "    </tr>\n",
       "    <tr>\n",
       "      <th>1</th>\n",
       "      <td>2</td>\n",
       "      <td>0.21</td>\n",
       "      <td>Premium</td>\n",
       "      <td>E</td>\n",
       "      <td>SI1</td>\n",
       "      <td>59.8</td>\n",
       "      <td>61.0</td>\n",
       "      <td>326</td>\n",
       "      <td>3.89</td>\n",
       "      <td>3.84</td>\n",
       "      <td>2.31</td>\n",
       "    </tr>\n",
       "    <tr>\n",
       "      <th>2</th>\n",
       "      <td>3</td>\n",
       "      <td>0.23</td>\n",
       "      <td>Good</td>\n",
       "      <td>E</td>\n",
       "      <td>VS1</td>\n",
       "      <td>56.9</td>\n",
       "      <td>65.0</td>\n",
       "      <td>327</td>\n",
       "      <td>4.05</td>\n",
       "      <td>4.07</td>\n",
       "      <td>2.31</td>\n",
       "    </tr>\n",
       "    <tr>\n",
       "      <th>3</th>\n",
       "      <td>4</td>\n",
       "      <td>0.29</td>\n",
       "      <td>Premium</td>\n",
       "      <td>I</td>\n",
       "      <td>VS2</td>\n",
       "      <td>62.4</td>\n",
       "      <td>58.0</td>\n",
       "      <td>334</td>\n",
       "      <td>4.20</td>\n",
       "      <td>4.23</td>\n",
       "      <td>2.63</td>\n",
       "    </tr>\n",
       "    <tr>\n",
       "      <th>4</th>\n",
       "      <td>5</td>\n",
       "      <td>0.31</td>\n",
       "      <td>Good</td>\n",
       "      <td>J</td>\n",
       "      <td>SI2</td>\n",
       "      <td>63.3</td>\n",
       "      <td>58.0</td>\n",
       "      <td>335</td>\n",
       "      <td>4.34</td>\n",
       "      <td>4.35</td>\n",
       "      <td>2.75</td>\n",
       "    </tr>\n",
       "    <tr>\n",
       "      <th>5</th>\n",
       "      <td>6</td>\n",
       "      <td>0.24</td>\n",
       "      <td>Very Good</td>\n",
       "      <td>J</td>\n",
       "      <td>VVS2</td>\n",
       "      <td>62.8</td>\n",
       "      <td>57.0</td>\n",
       "      <td>336</td>\n",
       "      <td>3.94</td>\n",
       "      <td>3.96</td>\n",
       "      <td>2.48</td>\n",
       "    </tr>\n",
       "    <tr>\n",
       "      <th>6</th>\n",
       "      <td>7</td>\n",
       "      <td>0.24</td>\n",
       "      <td>Very Good</td>\n",
       "      <td>I</td>\n",
       "      <td>VVS1</td>\n",
       "      <td>62.3</td>\n",
       "      <td>57.0</td>\n",
       "      <td>336</td>\n",
       "      <td>3.95</td>\n",
       "      <td>3.98</td>\n",
       "      <td>2.47</td>\n",
       "    </tr>\n",
       "    <tr>\n",
       "      <th>7</th>\n",
       "      <td>8</td>\n",
       "      <td>0.26</td>\n",
       "      <td>Very Good</td>\n",
       "      <td>H</td>\n",
       "      <td>SI1</td>\n",
       "      <td>61.9</td>\n",
       "      <td>55.0</td>\n",
       "      <td>337</td>\n",
       "      <td>4.07</td>\n",
       "      <td>4.11</td>\n",
       "      <td>2.53</td>\n",
       "    </tr>\n",
       "    <tr>\n",
       "      <th>8</th>\n",
       "      <td>9</td>\n",
       "      <td>0.22</td>\n",
       "      <td>Fair</td>\n",
       "      <td>E</td>\n",
       "      <td>VS2</td>\n",
       "      <td>65.1</td>\n",
       "      <td>61.0</td>\n",
       "      <td>337</td>\n",
       "      <td>3.87</td>\n",
       "      <td>3.78</td>\n",
       "      <td>2.49</td>\n",
       "    </tr>\n",
       "    <tr>\n",
       "      <th>9</th>\n",
       "      <td>10</td>\n",
       "      <td>0.23</td>\n",
       "      <td>Very Good</td>\n",
       "      <td>H</td>\n",
       "      <td>VS1</td>\n",
       "      <td>59.4</td>\n",
       "      <td>61.0</td>\n",
       "      <td>338</td>\n",
       "      <td>4.00</td>\n",
       "      <td>4.05</td>\n",
       "      <td>2.39</td>\n",
       "    </tr>\n",
       "    <tr>\n",
       "      <th>10</th>\n",
       "      <td>11</td>\n",
       "      <td>0.30</td>\n",
       "      <td>Good</td>\n",
       "      <td>J</td>\n",
       "      <td>SI1</td>\n",
       "      <td>64.0</td>\n",
       "      <td>55.0</td>\n",
       "      <td>339</td>\n",
       "      <td>4.25</td>\n",
       "      <td>4.28</td>\n",
       "      <td>2.73</td>\n",
       "    </tr>\n",
       "    <tr>\n",
       "      <th>11</th>\n",
       "      <td>12</td>\n",
       "      <td>0.23</td>\n",
       "      <td>Ideal</td>\n",
       "      <td>J</td>\n",
       "      <td>VS1</td>\n",
       "      <td>62.8</td>\n",
       "      <td>56.0</td>\n",
       "      <td>340</td>\n",
       "      <td>3.93</td>\n",
       "      <td>3.90</td>\n",
       "      <td>2.46</td>\n",
       "    </tr>\n",
       "    <tr>\n",
       "      <th>12</th>\n",
       "      <td>13</td>\n",
       "      <td>0.22</td>\n",
       "      <td>Premium</td>\n",
       "      <td>F</td>\n",
       "      <td>SI1</td>\n",
       "      <td>60.4</td>\n",
       "      <td>61.0</td>\n",
       "      <td>342</td>\n",
       "      <td>3.88</td>\n",
       "      <td>3.84</td>\n",
       "      <td>2.33</td>\n",
       "    </tr>\n",
       "    <tr>\n",
       "      <th>13</th>\n",
       "      <td>14</td>\n",
       "      <td>0.31</td>\n",
       "      <td>Ideal</td>\n",
       "      <td>J</td>\n",
       "      <td>SI2</td>\n",
       "      <td>62.2</td>\n",
       "      <td>54.0</td>\n",
       "      <td>344</td>\n",
       "      <td>4.35</td>\n",
       "      <td>4.37</td>\n",
       "      <td>2.71</td>\n",
       "    </tr>\n",
       "    <tr>\n",
       "      <th>14</th>\n",
       "      <td>15</td>\n",
       "      <td>0.20</td>\n",
       "      <td>Premium</td>\n",
       "      <td>E</td>\n",
       "      <td>SI2</td>\n",
       "      <td>60.2</td>\n",
       "      <td>62.0</td>\n",
       "      <td>345</td>\n",
       "      <td>3.79</td>\n",
       "      <td>3.75</td>\n",
       "      <td>2.27</td>\n",
       "    </tr>\n",
       "    <tr>\n",
       "      <th>15</th>\n",
       "      <td>16</td>\n",
       "      <td>0.32</td>\n",
       "      <td>Premium</td>\n",
       "      <td>E</td>\n",
       "      <td>I1</td>\n",
       "      <td>60.9</td>\n",
       "      <td>58.0</td>\n",
       "      <td>345</td>\n",
       "      <td>4.38</td>\n",
       "      <td>4.42</td>\n",
       "      <td>2.68</td>\n",
       "    </tr>\n",
       "    <tr>\n",
       "      <th>16</th>\n",
       "      <td>17</td>\n",
       "      <td>0.30</td>\n",
       "      <td>Ideal</td>\n",
       "      <td>I</td>\n",
       "      <td>SI2</td>\n",
       "      <td>62.0</td>\n",
       "      <td>54.0</td>\n",
       "      <td>348</td>\n",
       "      <td>4.31</td>\n",
       "      <td>4.34</td>\n",
       "      <td>2.68</td>\n",
       "    </tr>\n",
       "    <tr>\n",
       "      <th>17</th>\n",
       "      <td>18</td>\n",
       "      <td>0.30</td>\n",
       "      <td>Good</td>\n",
       "      <td>J</td>\n",
       "      <td>SI1</td>\n",
       "      <td>63.4</td>\n",
       "      <td>54.0</td>\n",
       "      <td>351</td>\n",
       "      <td>4.23</td>\n",
       "      <td>4.29</td>\n",
       "      <td>2.70</td>\n",
       "    </tr>\n",
       "    <tr>\n",
       "      <th>18</th>\n",
       "      <td>19</td>\n",
       "      <td>0.30</td>\n",
       "      <td>Good</td>\n",
       "      <td>J</td>\n",
       "      <td>SI1</td>\n",
       "      <td>63.8</td>\n",
       "      <td>56.0</td>\n",
       "      <td>351</td>\n",
       "      <td>4.23</td>\n",
       "      <td>4.26</td>\n",
       "      <td>2.71</td>\n",
       "    </tr>\n",
       "    <tr>\n",
       "      <th>19</th>\n",
       "      <td>20</td>\n",
       "      <td>0.30</td>\n",
       "      <td>Very Good</td>\n",
       "      <td>J</td>\n",
       "      <td>SI1</td>\n",
       "      <td>62.7</td>\n",
       "      <td>59.0</td>\n",
       "      <td>351</td>\n",
       "      <td>4.21</td>\n",
       "      <td>4.27</td>\n",
       "      <td>2.66</td>\n",
       "    </tr>\n",
       "  </tbody>\n",
       "</table>\n",
       "</div>"
      ],
      "text/plain": [
       "    Unnamed: 0  carat        cut color clarity  depth  table  price     x  \\\n",
       "0            1   0.23      Ideal     E     SI2   61.5   55.0    326  3.95   \n",
       "1            2   0.21    Premium     E     SI1   59.8   61.0    326  3.89   \n",
       "2            3   0.23       Good     E     VS1   56.9   65.0    327  4.05   \n",
       "3            4   0.29    Premium     I     VS2   62.4   58.0    334  4.20   \n",
       "4            5   0.31       Good     J     SI2   63.3   58.0    335  4.34   \n",
       "5            6   0.24  Very Good     J    VVS2   62.8   57.0    336  3.94   \n",
       "6            7   0.24  Very Good     I    VVS1   62.3   57.0    336  3.95   \n",
       "7            8   0.26  Very Good     H     SI1   61.9   55.0    337  4.07   \n",
       "8            9   0.22       Fair     E     VS2   65.1   61.0    337  3.87   \n",
       "9           10   0.23  Very Good     H     VS1   59.4   61.0    338  4.00   \n",
       "10          11   0.30       Good     J     SI1   64.0   55.0    339  4.25   \n",
       "11          12   0.23      Ideal     J     VS1   62.8   56.0    340  3.93   \n",
       "12          13   0.22    Premium     F     SI1   60.4   61.0    342  3.88   \n",
       "13          14   0.31      Ideal     J     SI2   62.2   54.0    344  4.35   \n",
       "14          15   0.20    Premium     E     SI2   60.2   62.0    345  3.79   \n",
       "15          16   0.32    Premium     E      I1   60.9   58.0    345  4.38   \n",
       "16          17   0.30      Ideal     I     SI2   62.0   54.0    348  4.31   \n",
       "17          18   0.30       Good     J     SI1   63.4   54.0    351  4.23   \n",
       "18          19   0.30       Good     J     SI1   63.8   56.0    351  4.23   \n",
       "19          20   0.30  Very Good     J     SI1   62.7   59.0    351  4.21   \n",
       "\n",
       "       y     z  \n",
       "0   3.98  2.43  \n",
       "1   3.84  2.31  \n",
       "2   4.07  2.31  \n",
       "3   4.23  2.63  \n",
       "4   4.35  2.75  \n",
       "5   3.96  2.48  \n",
       "6   3.98  2.47  \n",
       "7   4.11  2.53  \n",
       "8   3.78  2.49  \n",
       "9   4.05  2.39  \n",
       "10  4.28  2.73  \n",
       "11  3.90  2.46  \n",
       "12  3.84  2.33  \n",
       "13  4.37  2.71  \n",
       "14  3.75  2.27  \n",
       "15  4.42  2.68  \n",
       "16  4.34  2.68  \n",
       "17  4.29  2.70  \n",
       "18  4.26  2.71  \n",
       "19  4.27  2.66  "
      ]
     },
     "execution_count": 4,
     "metadata": {},
     "output_type": "execute_result"
    }
   ],
   "source": [
    "df.head(20)"
   ]
  },
  {
   "cell_type": "code",
   "execution_count": 5,
   "id": "0d47876f",
   "metadata": {},
   "outputs": [
    {
     "data": {
      "text/plain": [
       "(53940, 11)"
      ]
     },
     "execution_count": 5,
     "metadata": {},
     "output_type": "execute_result"
    }
   ],
   "source": [
    "df.shape"
   ]
  },
  {
   "cell_type": "code",
   "execution_count": 6,
   "id": "31b6932c",
   "metadata": {},
   "outputs": [
    {
     "name": "stdout",
     "output_type": "stream",
     "text": [
      "<class 'pandas.core.frame.DataFrame'>\n",
      "RangeIndex: 53940 entries, 0 to 53939\n",
      "Data columns (total 11 columns):\n",
      " #   Column      Non-Null Count  Dtype  \n",
      "---  ------      --------------  -----  \n",
      " 0   Unnamed: 0  53940 non-null  int64  \n",
      " 1   carat       53940 non-null  float64\n",
      " 2   cut         53940 non-null  object \n",
      " 3   color       53940 non-null  object \n",
      " 4   clarity     53940 non-null  object \n",
      " 5   depth       53940 non-null  float64\n",
      " 6   table       53940 non-null  float64\n",
      " 7   price       53940 non-null  int64  \n",
      " 8   x           53940 non-null  float64\n",
      " 9   y           53940 non-null  float64\n",
      " 10  z           53940 non-null  float64\n",
      "dtypes: float64(6), int64(2), object(3)\n",
      "memory usage: 4.5+ MB\n"
     ]
    }
   ],
   "source": [
    "df.info()"
   ]
  },
  {
   "cell_type": "code",
   "execution_count": 7,
   "id": "38c148dd",
   "metadata": {},
   "outputs": [],
   "source": [
    "# run anova for price"
   ]
  },
  {
   "cell_type": "code",
   "execution_count": 8,
   "id": "ee239e9b",
   "metadata": {},
   "outputs": [
    {
     "name": "stdout",
     "output_type": "stream",
     "text": [
      "Ideal, Premium, Very Good, Good, Fair:\n",
      "F_onewayResult(statistic=175.68871735080606, pvalue=8.42830730759452e-150)\n"
     ]
    }
   ],
   "source": [
    "# 5 means\n",
    "ideal_price = df[df['cut'] == 'Ideal']['price']\n",
    "premium_price = df[df['cut'] == 'Premium']['price']\n",
    "vgood_price = df[df['cut'] == 'Very Good']['price']\n",
    "good_price = df[df['cut'] == 'Good']['price']\n",
    "fair_price = df[df['cut'] == 'Fair']['price']\n",
    "\n",
    "print(\"Ideal, Premium, Very Good, Good, Fair:\")\n",
    "print(f_oneway(ideal_price, premium_price, vgood_price, good_price, fair_price))"
   ]
  },
  {
   "cell_type": "code",
   "execution_count": 9,
   "id": "a186625d",
   "metadata": {},
   "outputs": [
    {
     "name": "stdout",
     "output_type": "stream",
     "text": [
      "Premium, Very Good, Good, Fair:\n",
      "F_onewayResult(statistic=59.23809272044208, pvalue=3.494443523916671e-38)\n",
      "\n",
      "Ideal, Very Good, Good, Fair:\n",
      "F_onewayResult(statistic=72.50931190096745, pvalue=9.192590683137273e-47)\n",
      "\n",
      "Ideal, Premium, Good, Fair:\n",
      "F_onewayResult(statistic=232.5155153689253, pvalue=1.2555196049594565e-149)\n",
      "\n",
      "Ideal, Premium, Very Good, Fair:\n",
      "F_onewayResult(statistic=231.07484590891255, pvalue=6.956760370251371e-149)\n",
      "\n",
      "Ideal, Premium, Very Good, Good:\n",
      "F_onewayResult(statistic=226.51785775034188, pvalue=5.043011513528443e-146)\n",
      "\n"
     ]
    }
   ],
   "source": [
    "# 4 means\n",
    "\n",
    "print(\"Premium, Very Good, Good, Fair:\")\n",
    "print(f_oneway(premium_price, vgood_price, good_price, fair_price))\n",
    "print(\"\")\n",
    "\n",
    "print(\"Ideal, Very Good, Good, Fair:\")\n",
    "print(f_oneway(ideal_price, vgood_price, good_price, fair_price))\n",
    "print(\"\")\n",
    "\n",
    "print(\"Ideal, Premium, Good, Fair:\")\n",
    "print(f_oneway(ideal_price, premium_price, good_price, fair_price))\n",
    "print(\"\")\n",
    "\n",
    "print(\"Ideal, Premium, Very Good, Fair:\")\n",
    "print(f_oneway(ideal_price, premium_price, vgood_price, fair_price))\n",
    "print(\"\")\n",
    "\n",
    "print(\"Ideal, Premium, Very Good, Good:\")\n",
    "print(f_oneway(ideal_price, premium_price, vgood_price, good_price))\n",
    "print(\"\")"
   ]
  },
  {
   "cell_type": "code",
   "execution_count": 10,
   "id": "171663e7",
   "metadata": {},
   "outputs": [
    {
     "name": "stdout",
     "output_type": "stream",
     "text": [
      "Ideal, Premium, Very Good:\n",
      "F_onewayResult(statistic=334.82923078783165, pvalue=4.005783387428125e-145)\n",
      "\n",
      "Ideal, Premium, Good:\n",
      "F_onewayResult(statistic=335.8568601267539, pvalue=2.2034069412537372e-145)\n",
      "\n",
      "Ideal, Premium, Fair:\n",
      "F_onewayResult(statistic=342.3543334344161, pvalue=4.767030981831731e-148)\n",
      "\n",
      "Ideal, Very Good, Good:\n",
      "F_onewayResult(statistic=84.06993792553743, pvalue=3.700934310866485e-37)\n",
      "\n",
      "Ideal, Very Good, Fair:\n",
      "F_onewayResult(statistic=98.52856991351571, pvalue=2.1319677689666e-43)\n",
      "\n",
      "Ideal, Good, Fair:\n",
      "F_onewayResult(statistic=66.4957082997786, pvalue=1.5470043505554164e-29)\n",
      "\n",
      "Premium, Very Good, Good:\n",
      "F_onewayResult(statistic=87.17994168322274, pvalue=1.758251484495333e-38)\n",
      "\n",
      "Premium, Very Good, Fair:\n",
      "F_onewayResult(statistic=68.71573054049402, pvalue=1.7041733559797622e-30)\n",
      "\n",
      "Premium, Good, Fair:\n",
      "F_onewayResult(statistic=45.504679481359844, pvalue=1.9130566262375675e-20)\n",
      "\n",
      "Very Good, Good, Fair:\n",
      "F_onewayResult(statistic=8.009347951614908, pvalue=0.00033348919296453787)\n",
      "\n"
     ]
    }
   ],
   "source": [
    "# 3 means\n",
    "print(\"Ideal, Premium, Very Good:\")\n",
    "print(f_oneway(ideal_price, premium_price, vgood_price))\n",
    "print(\"\")\n",
    "\n",
    "print(\"Ideal, Premium, Good:\")\n",
    "print(f_oneway(ideal_price, premium_price, good_price))\n",
    "print(\"\")\n",
    "\n",
    "print(\"Ideal, Premium, Fair:\")\n",
    "print(f_oneway(ideal_price, premium_price, fair_price))\n",
    "print(\"\")\n",
    "\n",
    "print(\"Ideal, Very Good, Good:\")\n",
    "print(f_oneway(ideal_price, vgood_price, good_price))\n",
    "print(\"\")\n",
    "\n",
    "print(\"Ideal, Very Good, Fair:\")\n",
    "print(f_oneway(ideal_price, vgood_price, fair_price))\n",
    "print(\"\")\n",
    "\n",
    "print(\"Ideal, Good, Fair:\")\n",
    "print(f_oneway(ideal_price, good_price, fair_price))\n",
    "print(\"\")\n",
    "\n",
    "print(\"Premium, Very Good, Good:\")\n",
    "print(f_oneway(premium_price, vgood_price, good_price))\n",
    "print(\"\")\n",
    "\n",
    "print(\"Premium, Very Good, Fair:\")\n",
    "print(f_oneway(premium_price, vgood_price, fair_price))\n",
    "print(\"\")\n",
    "\n",
    "print(\"Premium, Good, Fair:\")\n",
    "print(f_oneway(premium_price, good_price, fair_price))\n",
    "print(\"\")\n",
    "\n",
    "print(\"Very Good, Good, Fair:\")\n",
    "print(f_oneway(vgood_price, good_price, fair_price))\n",
    "print(\"\")"
   ]
  },
  {
   "cell_type": "code",
   "execution_count": 11,
   "id": "a62ece59",
   "metadata": {
    "scrolled": true
   },
   "outputs": [
    {
     "name": "stdout",
     "output_type": "stream",
     "text": [
      "Ideal, Premium:\n",
      "F_onewayResult(statistic=657.9692140029687, pvalue=8.58527426919166e-144)\n",
      "\n",
      "Ideal, Very Good:\n",
      "F_onewayResult(statistic=143.18228028407117, pvalue=6.255962296411461e-33)\n",
      "\n",
      "Ideal, Good:\n",
      "F_onewayResult(statistic=61.95990341091138, pvalue=3.638743214719542e-15)\n",
      "\n",
      "Ideal, Fair:\n",
      "F_onewayResult(statistic=84.63050090984251, pvalue=3.892181603740289e-20)\n",
      "\n",
      "Premium, Very Good:\n",
      "F_onewayResult(statistic=135.00222611085107, pvalue=3.9409266225388592e-31)\n",
      "\n",
      "Premium, Good:\n",
      "F_onewayResult(statistic=88.77620927933414, pvalue=4.922340877393496e-21)\n",
      "\n",
      "Premium, Fair:\n",
      "F_onewayResult(statistic=4.014002904332283, pvalue=0.04514138588204556)\n",
      "\n",
      "Very Good, Good:\n",
      "F_onewayResult(statistic=0.6538098549926833, pvalue=0.4187651658985547)\n",
      "\n",
      "Very Good, Fair:\n",
      "F_onewayResult(statistic=13.318970321073577, pvalue=0.00026371160550790675)\n",
      "\n",
      "Good, Fair:\n",
      "F_onewayResult(statistic=16.796780869108364, pvalue=4.2109071886587225e-05)\n",
      "\n"
     ]
    }
   ],
   "source": [
    "# 2 means\n",
    "print(\"Ideal, Premium:\")\n",
    "print(f_oneway(ideal_price, premium_price))\n",
    "print(\"\")\n",
    "\n",
    "print(\"Ideal, Very Good:\")\n",
    "print(f_oneway(ideal_price, vgood_price))\n",
    "print(\"\")\n",
    "\n",
    "print(\"Ideal, Good:\")\n",
    "print(f_oneway(ideal_price, good_price))\n",
    "print(\"\")\n",
    "\n",
    "print(\"Ideal, Fair:\")\n",
    "print(f_oneway(ideal_price, fair_price))\n",
    "print(\"\")\n",
    "\n",
    "print(\"Premium, Very Good:\")\n",
    "print(f_oneway(premium_price, vgood_price))\n",
    "print(\"\")\n",
    "\n",
    "print(\"Premium, Good:\")\n",
    "print(f_oneway(premium_price, good_price))\n",
    "print(\"\")\n",
    "\n",
    "print(\"Premium, Fair:\")\n",
    "print(f_oneway(premium_price, fair_price))\n",
    "print(\"\")\n",
    "\n",
    "print(\"Very Good, Good:\")\n",
    "print(f_oneway(vgood_price, good_price))\n",
    "print(\"\")\n",
    "\n",
    "print(\"Very Good, Fair:\")\n",
    "print(f_oneway(vgood_price, fair_price))\n",
    "print(\"\")\n",
    "\n",
    "print(\"Good, Fair:\")\n",
    "print(f_oneway(good_price, fair_price))\n",
    "print(\"\")"
   ]
  },
  {
   "cell_type": "code",
   "execution_count": 13,
   "id": "2f614a54",
   "metadata": {},
   "outputs": [
    {
     "name": "stdout",
     "output_type": "stream",
     "text": [
      "The p-value is 1.8294482315832973e-296\n",
      "The carat of ideal and premium cut diamonds are statistically different.\n"
     ]
    }
   ],
   "source": [
    "premium_carat = df[df['cut'] == 'Premium']['carat']\n",
    "ideal_carat = df[df['cut'] == 'Ideal']['carat']\n",
    "\n",
    "alpha = 0.05\n",
    "\n",
    "t_stat, p_value = stats.ttest_ind(premium_carat, ideal_carat)\n",
    "\n",
    "print(\"The p-value is \" + str(p_value))\n",
    "\n",
    "if p_value < alpha:\n",
    "    print(\"The carat of ideal and premium cut diamonds are statistically different.\")\n",
    "else:\n",
    "    print(\"The carat of ideal and premium cut diamonds are not statistically different.\")"
   ]
  },
  {
   "cell_type": "code",
   "execution_count": 14,
   "id": "cc9395d8",
   "metadata": {},
   "outputs": [
    {
     "name": "stdout",
     "output_type": "stream",
     "text": [
      "The p-value is 0.0\n",
      "The depth of ideal and premium cut diamonds are statistically different.\n"
     ]
    }
   ],
   "source": [
    "premium_depth = df[df['cut'] == 'Premium']['depth']\n",
    "ideal_depth = df[df['cut'] == 'Ideal']['depth']\n",
    "\n",
    "t_stat, p_value = stats.ttest_ind(premium_depth, ideal_depth)\n",
    "\n",
    "print(\"The p-value is \" + str(p_value))\n",
    "\n",
    "if p_value < alpha:\n",
    "    print(\"The depth of ideal and premium cut diamonds are statistically different.\")\n",
    "else:\n",
    "    print(\"The depth of ideal and premium cut diamonds are not statistically different.\")"
   ]
  },
  {
   "cell_type": "code",
   "execution_count": 15,
   "id": "6c53fba3",
   "metadata": {},
   "outputs": [
    {
     "name": "stdout",
     "output_type": "stream",
     "text": [
      "The p-value is 0.0\n",
      "The table of ideal and premium cut diamonds are statistically different.\n"
     ]
    }
   ],
   "source": [
    "premium_table = df[df['cut'] == 'Premium']['table']\n",
    "ideal_table = df[df['cut'] == 'Ideal']['table']\n",
    "\n",
    "t_stat, p_value = stats.ttest_ind(premium_table, ideal_table)\n",
    "\n",
    "print(\"The p-value is \" + str(p_value))\n",
    "\n",
    "if p_value < alpha:\n",
    "    print(\"The table of ideal and premium cut diamonds are statistically different.\")\n",
    "else:\n",
    "    print(\"The table of ideal and premium cut diamonds are not statistically different.\")"
   ]
  },
  {
   "cell_type": "code",
   "execution_count": null,
   "id": "22d101ff",
   "metadata": {},
   "outputs": [],
   "source": []
  },
  {
   "cell_type": "code",
   "execution_count": 16,
   "id": "f699e6e2",
   "metadata": {},
   "outputs": [
    {
     "name": "stdout",
     "output_type": "stream",
     "text": [
      "The p-value is 1.8293237455555817e-44\n",
      "The carat of very good and premium cut diamonds are statistically different.\n"
     ]
    }
   ],
   "source": [
    "premium_carat = df[df['cut'] == 'Premium']['carat']\n",
    "vgood_carat = df[df['cut'] == 'Very Good']['carat']\n",
    "\n",
    "t_stat, p_value = stats.ttest_ind(premium_carat, vgood_carat)\n",
    "\n",
    "print(\"The p-value is \" + str(p_value))\n",
    "\n",
    "if p_value < alpha:\n",
    "    print(\"The carat of very good and premium cut diamonds are statistically different.\")\n",
    "else:\n",
    "    print(\"The carat of very good and premium cut diamonds are not statistically different.\")"
   ]
  },
  {
   "cell_type": "code",
   "execution_count": 17,
   "id": "85254536",
   "metadata": {},
   "outputs": [
    {
     "name": "stdout",
     "output_type": "stream",
     "text": [
      "The p-value is 1.6553601661781143e-263\n",
      "The depth of very god and premium cut diamonds are statistically different.\n"
     ]
    }
   ],
   "source": [
    "premium_depth = df[df['cut'] == 'Premium']['depth']\n",
    "vgood_depth = df[df['cut'] == 'Very Good']['depth']\n",
    "\n",
    "t_stat, p_value = stats.ttest_ind(premium_depth, vgood_depth)\n",
    "\n",
    "print(\"The p-value is \" + str(p_value))\n",
    "\n",
    "if p_value < alpha:\n",
    "    print(\"The depth of very god and premium cut diamonds are statistically different.\")\n",
    "else:\n",
    "    print(\"The depth of very good and premium cut diamonds are not statistically different.\")"
   ]
  },
  {
   "cell_type": "code",
   "execution_count": 18,
   "id": "ec7b38dc",
   "metadata": {},
   "outputs": [
    {
     "name": "stdout",
     "output_type": "stream",
     "text": [
      "The p-value is 2.5570422384003508e-263\n",
      "The table of very god and premium cut diamonds are statistically different.\n"
     ]
    }
   ],
   "source": [
    "premium_table = df[df['cut'] == 'Premium']['table']\n",
    "vgood_table = df[df['cut'] == 'Very Good']['table']\n",
    "\n",
    "t_stat, p_value = stats.ttest_ind(premium_table, vgood_table)\n",
    "\n",
    "print(\"The p-value is \" + str(p_value))\n",
    "\n",
    "if p_value < alpha:\n",
    "    print(\"The table of very god and premium cut diamonds are statistically different.\")\n",
    "else:\n",
    "    print(\"The table of very good and premium cut diamonds are not statistically different.\")"
   ]
  },
  {
   "cell_type": "code",
   "execution_count": null,
   "id": "240d72cd",
   "metadata": {},
   "outputs": [],
   "source": []
  },
  {
   "cell_type": "code",
   "execution_count": 19,
   "id": "d4a48bb5",
   "metadata": {},
   "outputs": [
    {
     "name": "stdout",
     "output_type": "stream",
     "text": [
      "The p-value is 3.404840458645989e-08\n",
      "The carat of very good and good cut diamonds are statistically different.\n"
     ]
    }
   ],
   "source": [
    "good_carat = df[df['cut'] == 'Good']['carat']\n",
    "vgood_carat = df[df['cut'] == 'Very Good']['carat']\n",
    "\n",
    "t_stat, p_value = stats.ttest_ind(good_carat, vgood_carat)\n",
    "\n",
    "print(\"The p-value is \" + str(p_value))\n",
    "\n",
    "if p_value < alpha:\n",
    "    print(\"The carat of very good and good cut diamonds are statistically different.\")\n",
    "else:\n",
    "    print(\"The carat of very good and good cut diamonds are not statistically different.\")"
   ]
  },
  {
   "cell_type": "code",
   "execution_count": 20,
   "id": "3f18a327",
   "metadata": {},
   "outputs": [
    {
     "name": "stdout",
     "output_type": "stream",
     "text": [
      "The p-value is 5.450292382330732e-85\n",
      "The depth of very good and good cut diamonds are statistically different.\n"
     ]
    }
   ],
   "source": [
    "good_depth = df[df['cut'] == 'Good']['depth']\n",
    "vgood_depth = df[df['cut'] == 'Very Good']['depth']\n",
    "\n",
    "t_stat, p_value = stats.ttest_ind(good_depth, vgood_depth)\n",
    "\n",
    "print(\"The p-value is \" + str(p_value))\n",
    "\n",
    "if p_value < alpha:\n",
    "    print(\"The depth of very good and good cut diamonds are statistically different.\")\n",
    "else:\n",
    "    print(\"The depth of very good and good cut diamonds are not statistically different.\")"
   ]
  },
  {
   "cell_type": "code",
   "execution_count": 21,
   "id": "d6b7d7ff",
   "metadata": {},
   "outputs": [
    {
     "name": "stdout",
     "output_type": "stream",
     "text": [
      "The p-value is 8.10215395889989e-76\n",
      "The table of very good and good cut diamonds are statistically different.\n"
     ]
    }
   ],
   "source": [
    "good_table = df[df['cut'] == 'Good']['table']\n",
    "vgood_table = df[df['cut'] == 'Very Good']['table']\n",
    "\n",
    "t_stat, p_value = stats.ttest_ind(good_table, vgood_table)\n",
    "\n",
    "print(\"The p-value is \" + str(p_value))\n",
    "\n",
    "if p_value < alpha:\n",
    "    print(\"The table of very good and good cut diamonds are statistically different.\")\n",
    "else:\n",
    "    print(\"The table of very good and good cut diamonds are not statistically different.\")"
   ]
  },
  {
   "cell_type": "code",
   "execution_count": null,
   "id": "79d138a3",
   "metadata": {},
   "outputs": [],
   "source": []
  },
  {
   "cell_type": "code",
   "execution_count": 22,
   "id": "fc0889c1",
   "metadata": {},
   "outputs": [
    {
     "name": "stdout",
     "output_type": "stream",
     "text": [
      "The p-value is 2.0075221603344892e-47\n",
      "The carat of good and fair cut diamonds are statistically different.\n"
     ]
    }
   ],
   "source": [
    "good_carat = df[df['cut'] == 'Good']['carat']\n",
    "fair_carat = df[df['cut'] == 'Fair']['carat']\n",
    "\n",
    "t_stat, p_value = stats.ttest_ind(good_carat, fair_carat)\n",
    "\n",
    "print(\"The p-value is \" + str(p_value))\n",
    "\n",
    "if p_value < alpha:\n",
    "    print(\"The carat of good and fair cut diamonds are statistically different.\")\n",
    "else:\n",
    "    print(\"The carat of good and fair cut diamonds are not statistically different.\")"
   ]
  },
  {
   "cell_type": "code",
   "execution_count": 23,
   "id": "feafc7f6",
   "metadata": {},
   "outputs": [
    {
     "name": "stdout",
     "output_type": "stream",
     "text": [
      "The p-value is 1.4784348691167668e-106\n",
      "The depth of good and fair cut diamonds are statistically different.\n"
     ]
    }
   ],
   "source": [
    "good_depth = df[df['cut'] == 'Good']['depth']\n",
    "fair_depth = df[df['cut'] == 'Fair']['depth']\n",
    "\n",
    "t_stat, p_value = stats.ttest_ind(good_depth, fair_depth)\n",
    "\n",
    "print(\"The p-value is \" + str(p_value))\n",
    "\n",
    "if p_value < alpha:\n",
    "    print(\"The depth of good and fair cut diamonds are statistically different.\")\n",
    "else:\n",
    "    print(\"The depth of good and fair cut diamonds are not statistically different.\")"
   ]
  },
  {
   "cell_type": "code",
   "execution_count": 24,
   "id": "578d2931",
   "metadata": {},
   "outputs": [
    {
     "name": "stdout",
     "output_type": "stream",
     "text": [
      "The p-value is 7.559353920010598e-05\n",
      "The table of good and fair cut diamonds are statistically different.\n"
     ]
    }
   ],
   "source": [
    "good_table = df[df['cut'] == 'Good']['table']\n",
    "fair_table = df[df['cut'] == 'Fair']['table']\n",
    "\n",
    "t_stat, p_value = stats.ttest_ind(good_table, fair_table)\n",
    "\n",
    "print(\"The p-value is \" + str(p_value))\n",
    "\n",
    "if p_value < alpha:\n",
    "    print(\"The table of good and fair cut diamonds are statistically different.\")\n",
    "else:\n",
    "    print(\"The table of good and fair cut diamonds are not statistically different.\")"
   ]
  },
  {
   "cell_type": "code",
   "execution_count": 44,
   "id": "918ad3bd",
   "metadata": {},
   "outputs": [
    {
     "data": {
      "text/plain": [
       "0.7028369913228676"
      ]
     },
     "execution_count": 44,
     "metadata": {},
     "output_type": "execute_result"
    }
   ],
   "source": [
    "ideal_carat.mean()"
   ]
  },
  {
   "cell_type": "markdown",
   "id": "6fe5da87",
   "metadata": {},
   "source": []
  }
 ],
 "metadata": {
  "kernelspec": {
   "display_name": "Python 3 (ipykernel)",
   "language": "python",
   "name": "python3"
  },
  "language_info": {
   "codemirror_mode": {
    "name": "ipython",
    "version": 3
   },
   "file_extension": ".py",
   "mimetype": "text/x-python",
   "name": "python",
   "nbconvert_exporter": "python",
   "pygments_lexer": "ipython3",
   "version": "3.9.12"
  }
 },
 "nbformat": 4,
 "nbformat_minor": 5
}
